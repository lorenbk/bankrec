{
 "cells": [
  {
   "cell_type": "markdown",
   "id": "9a59e9d7",
   "metadata": {},
   "source": [
    "### 2 Bank Summary\n",
    "<br>\n"
   ]
  },
  {
   "cell_type": "code",
   "execution_count": 1,
   "id": "34abdfd5",
   "metadata": {},
   "outputs": [],
   "source": [
    "import pandas as pd\n",
    "pd.options.display.float_format = '{:,.2f}'.format\n",
    "\n",
    "%store -r bank"
   ]
  },
  {
   "cell_type": "markdown",
   "id": "363d4a54",
   "metadata": {},
   "source": [
    "<br>\n"
   ]
  },
  {
   "cell_type": "markdown",
   "id": "595df74b",
   "metadata": {},
   "source": [
    "\n",
    "\n",
    "### Balances"
   ]
  },
  {
   "cell_type": "code",
   "execution_count": 2,
   "id": "7071683f",
   "metadata": {},
   "outputs": [],
   "source": [
    "beg_bal = bank[bank['Desc'].str.startswith('Beginning')].set_index('Month', drop=True)\n",
    "beg_bal = beg_bal['Balance']"
   ]
  },
  {
   "cell_type": "code",
   "execution_count": 3,
   "id": "14f2e071",
   "metadata": {},
   "outputs": [],
   "source": [
    "end_bal = bank[bank['Desc'].str.startswith('Ending')].set_index('Month', drop=True)\n",
    "end_bal = end_bal['Balance']"
   ]
  },
  {
   "cell_type": "markdown",
   "id": "c8fe55b5",
   "metadata": {},
   "source": [
    "<br>\n",
    "\n",
    "### LOC"
   ]
  },
  {
   "cell_type": "code",
   "execution_count": 4,
   "id": "55687b15",
   "metadata": {},
   "outputs": [],
   "source": [
    "loan_p = bank[bank['Desc'].str.contains('PAYMENT TO COMMERCIAL LOAN')]\n",
    "loan_pay = loan_p.groupby('Month')['Amount'].agg('sum')"
   ]
  },
  {
   "cell_type": "code",
   "execution_count": 5,
   "id": "43dbbe14",
   "metadata": {},
   "outputs": [],
   "source": [
    "loan_a = bank[bank['Desc'].str.contains('ADVANCE FROM COMMERCIAL LOAN')]\n",
    "loan_adv = loan_a.groupby('Month')['Amount'].agg('sum')"
   ]
  },
  {
   "cell_type": "markdown",
   "id": "e90ac082",
   "metadata": {},
   "source": [
    "<br>\n",
    "\n",
    "### Payroll Transfers"
   ]
  },
  {
   "cell_type": "code",
   "execution_count": 6,
   "id": "123ba00b",
   "metadata": {},
   "outputs": [],
   "source": [
    "plugs = {'Aug': -462362.76, 'Sep': -426070.38, 'Oct': -359172.16,\n",
    "         'Nov': -458700, 'Dec': -355600}\n",
    "\n",
    "#<----index of line items supporting above totals\n",
    "plug_indices = [14,24,25,55,56,101,102,136,146,224,244,256,274,\n",
    "                295,306,327,337,369,391,402,445,474,505,522,557,583]\n",
    "\n",
    "PR_x = pd.Series(plugs)"
   ]
  },
  {
   "cell_type": "markdown",
   "id": "63bf96f0",
   "metadata": {},
   "source": [
    "<br>\n",
    "\n",
    "### Checks / Other Payments"
   ]
  },
  {
   "cell_type": "code",
   "execution_count": 7,
   "id": "f9d378f0",
   "metadata": {},
   "outputs": [],
   "source": [
    "chex = bank[(bank['Desc'].str.startswith('CHECK'))&(bank['Amount'] <  0)]\n",
    "checks = chex.groupby('Month')['Amount'].agg('sum')"
   ]
  },
  {
   "cell_type": "markdown",
   "id": "b2956c25",
   "metadata": {},
   "source": [
    "\n",
    " - Other Payments does not include checks, commercial loan payments, and PR transfers (<b>per the schedule provided</b>)."
   ]
  },
  {
   "cell_type": "code",
   "execution_count": 8,
   "id": "35bff7bd",
   "metadata": {},
   "outputs": [],
   "source": [
    "OP = bank[~(bank['Desc'].str.startswith('CHECK'))&(bank['Amount'] <  0)]\n",
    "OP_adj = OP[~(OP.index.isin(plug_indices))]\n",
    "\n",
    "other_pay = OP_adj[~(OP_adj['Desc'].str.contains('PAYMENT TO COMMERCIAL LOAN'))]\n",
    "other_pay = other_pay.groupby('Month')['Amount'].agg('sum')"
   ]
  },
  {
   "cell_type": "markdown",
   "id": "35de86c3",
   "metadata": {},
   "source": [
    "<br>\n",
    "\n",
    "### Deposits\n",
    "\n",
    " - does not include commercial loan advances"
   ]
  },
  {
   "cell_type": "code",
   "execution_count": 9,
   "id": "768899c4",
   "metadata": {},
   "outputs": [],
   "source": [
    "credits = bank[~(bank['Desc'].str.contains('ADVANCE FROM COMMERCIAL LOAN'))&(bank['Amount'] >  0)]\n",
    "deposits = credits.groupby('Month')['Amount'].agg('sum')"
   ]
  },
  {
   "cell_type": "markdown",
   "id": "76223ad2",
   "metadata": {},
   "source": [
    "<br>\n",
    "\n",
    "### Bank Summary"
   ]
  },
  {
   "cell_type": "code",
   "execution_count": 10,
   "id": "b94f0c08",
   "metadata": {},
   "outputs": [
    {
     "data": {
      "text/html": [
       "<div>\n",
       "<style scoped>\n",
       "    .dataframe tbody tr th:only-of-type {\n",
       "        vertical-align: middle;\n",
       "    }\n",
       "\n",
       "    .dataframe tbody tr th {\n",
       "        vertical-align: top;\n",
       "    }\n",
       "\n",
       "    .dataframe thead th {\n",
       "        text-align: right;\n",
       "    }\n",
       "</style>\n",
       "<table border=\"1\" class=\"dataframe\">\n",
       "  <thead>\n",
       "    <tr style=\"text-align: right;\">\n",
       "      <th></th>\n",
       "      <th>Aug</th>\n",
       "      <th>Sep</th>\n",
       "      <th>Oct</th>\n",
       "      <th>Nov</th>\n",
       "      <th>Dec</th>\n",
       "    </tr>\n",
       "  </thead>\n",
       "  <tbody>\n",
       "    <tr>\n",
       "      <th>Beg</th>\n",
       "      <td>950.16</td>\n",
       "      <td>-120,862.21</td>\n",
       "      <td>973.04</td>\n",
       "      <td>583.78</td>\n",
       "      <td>132,910.71</td>\n",
       "    </tr>\n",
       "    <tr>\n",
       "      <th>Deposits</th>\n",
       "      <td>2,309,855.08</td>\n",
       "      <td>1,457,343.03</td>\n",
       "      <td>1,173,557.77</td>\n",
       "      <td>2,980,452.96</td>\n",
       "      <td>2,384,075.32</td>\n",
       "    </tr>\n",
       "    <tr>\n",
       "      <th>Checks</th>\n",
       "      <td>-1,359,231.21</td>\n",
       "      <td>-229,753.13</td>\n",
       "      <td>-214,589.03</td>\n",
       "      <td>-848,381.37</td>\n",
       "      <td>-918,788.15</td>\n",
       "    </tr>\n",
       "    <tr>\n",
       "      <th>Other_Pay</th>\n",
       "      <td>-976,694.08</td>\n",
       "      <td>-454,060.61</td>\n",
       "      <td>-604,350.70</td>\n",
       "      <td>-980,855.98</td>\n",
       "      <td>-1,370,408.81</td>\n",
       "    </tr>\n",
       "    <tr>\n",
       "      <th>CL_Adv</th>\n",
       "      <td>1,645,500.00</td>\n",
       "      <td>1,269,000.00</td>\n",
       "      <td>884,500.00</td>\n",
       "      <td>899,500.00</td>\n",
       "      <td>1,020,000.00</td>\n",
       "    </tr>\n",
       "    <tr>\n",
       "      <th>CL_Pay</th>\n",
       "      <td>-1,278,879.40</td>\n",
       "      <td>-1,494,623.66</td>\n",
       "      <td>-880,335.14</td>\n",
       "      <td>-1,459,688.68</td>\n",
       "      <td>-891,870.95</td>\n",
       "    </tr>\n",
       "    <tr>\n",
       "      <th>PR_x</th>\n",
       "      <td>-462,362.76</td>\n",
       "      <td>-426,070.38</td>\n",
       "      <td>-359,172.16</td>\n",
       "      <td>-458,700.00</td>\n",
       "      <td>-355,600.00</td>\n",
       "    </tr>\n",
       "    <tr>\n",
       "      <th>End</th>\n",
       "      <td>-120,862.21</td>\n",
       "      <td>973.04</td>\n",
       "      <td>583.78</td>\n",
       "      <td>132,910.71</td>\n",
       "      <td>318.12</td>\n",
       "    </tr>\n",
       "  </tbody>\n",
       "</table>\n",
       "</div>"
      ],
      "text/plain": [
       "                    Aug           Sep          Oct           Nov           Dec\n",
       "Beg              950.16   -120,862.21       973.04        583.78    132,910.71\n",
       "Deposits   2,309,855.08  1,457,343.03 1,173,557.77  2,980,452.96  2,384,075.32\n",
       "Checks    -1,359,231.21   -229,753.13  -214,589.03   -848,381.37   -918,788.15\n",
       "Other_Pay   -976,694.08   -454,060.61  -604,350.70   -980,855.98 -1,370,408.81\n",
       "CL_Adv     1,645,500.00  1,269,000.00   884,500.00    899,500.00  1,020,000.00\n",
       "CL_Pay    -1,278,879.40 -1,494,623.66  -880,335.14 -1,459,688.68   -891,870.95\n",
       "PR_x        -462,362.76   -426,070.38  -359,172.16   -458,700.00   -355,600.00\n",
       "End         -120,862.21        973.04       583.78    132,910.71        318.12"
      ]
     },
     "execution_count": 10,
     "metadata": {},
     "output_type": "execute_result"
    }
   ],
   "source": [
    "b_summary = pd.concat([beg_bal, deposits, checks, other_pay, loan_adv, \n",
    "                     loan_pay, PR_x, end_bal],axis=1)\n",
    "b_summary.columns = ['Beg','Deposits','Checks','Other_Pay','CL_Adv','CL_Pay','PR_x','End']\n",
    "\n",
    "b_summary = b_summary.T\n",
    "b_summary"
   ]
  },
  {
   "cell_type": "markdown",
   "id": "c0aa0038",
   "metadata": {},
   "source": [
    "<br>\n",
    "<br>\n"
   ]
  },
  {
   "cell_type": "markdown",
   "id": "f6dce250",
   "metadata": {},
   "source": [
    "\n",
    "#### create Amount Frequency structure\n",
    " - added for use in Part 4"
   ]
  },
  {
   "cell_type": "code",
   "execution_count": 11,
   "id": "189d9377",
   "metadata": {
    "scrolled": true
   },
   "outputs": [],
   "source": [
    "credits = bank[~(bank['Desc'].str.contains('ADVANCE FROM COMMERCIAL LOAN'))&(bank['Amount'] >  0)]\n",
    "\n",
    "chex = bank[(bank['Desc'].str.startswith('CHECK'))&(bank['Amount'] <  0)]\n",
    "\n",
    "OP = bank[~(bank['Desc'].str.startswith('CHECK'))&(bank['Amount'] <  0)]\n",
    "OP_adj = OP[~(OP.index.isin(plug_indices))]\n",
    "other_pay = OP_adj[~(OP_adj['Desc'].str.contains('PAYMENT TO COMMERCIAL LOAN'))]\n",
    "\n",
    "loan_a = bank[bank['Desc'].str.contains('ADVANCE FROM COMMERCIAL LOAN')]\n",
    "\n",
    "loan_p = bank[bank['Desc'].str.contains('PAYMENT TO COMMERCIAL LOAN')]\n",
    "\n",
    "PR_Transfers = bank[bank.index.isin(plug_indices)]\n",
    "\n",
    "\n",
    "cats = {'Credits': credits, 'Checks': chex, 'Other_Pay': other_pay,\n",
    "       'CL_Adv': loan_a, 'CL_Pay': loan_p, 'PR_x': PR_Transfers}\n",
    "\n",
    "bank_pool = {}\n",
    "\n",
    "for k,v in cats.items():\n",
    "    mo_hist = []\n",
    "    for month in list(bank['Month'].unique()):\n",
    "        results = v[v['Month'] == month].copy() \n",
    "        mo_hist.append(results) \n",
    "        \n",
    "    bank_pool[k] = mo_hist       "
   ]
  },
  {
   "cell_type": "code",
   "execution_count": 12,
   "id": "78040a1c",
   "metadata": {},
   "outputs": [
    {
     "name": "stdout",
     "output_type": "stream",
     "text": [
      "Stored 'b_summary' (DataFrame)\n",
      "Stored 'bank_pool' (dict)\n"
     ]
    }
   ],
   "source": [
    "%store b_summary\n",
    "%store bank_pool"
   ]
  }
 ],
 "metadata": {
  "kernelspec": {
   "display_name": "Python 3 (ipykernel)",
   "language": "python",
   "name": "python3"
  },
  "language_info": {
   "codemirror_mode": {
    "name": "ipython",
    "version": 3
   },
   "file_extension": ".py",
   "mimetype": "text/x-python",
   "name": "python",
   "nbconvert_exporter": "python",
   "pygments_lexer": "ipython3",
   "version": "3.7.7"
  }
 },
 "nbformat": 4,
 "nbformat_minor": 5
}
