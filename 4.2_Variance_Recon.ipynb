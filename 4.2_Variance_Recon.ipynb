{
 "cells": [
  {
   "cell_type": "markdown",
   "id": "e2cdcc8d",
   "metadata": {},
   "source": [
    "<br>\n",
    "\n",
    "### 4.2 Variance Recon"
   ]
  },
  {
   "cell_type": "code",
   "execution_count": 1,
   "id": "3744335d",
   "metadata": {},
   "outputs": [],
   "source": [
    "import pandas as pd\n",
    "import numpy as np\n",
    "\n",
    "pd.options.display.float_format = '{:,.0f}'.format"
   ]
  },
  {
   "cell_type": "markdown",
   "id": "48dd847f",
   "metadata": {},
   "source": [
    "<br>\n",
    "\n",
    "#### Restore objects"
   ]
  },
  {
   "cell_type": "code",
   "execution_count": 2,
   "id": "13de8043",
   "metadata": {},
   "outputs": [],
   "source": [
    "%store -r gl_pool\n",
    "%store -r bank_pool\n",
    "%store -r stats"
   ]
  },
  {
   "cell_type": "markdown",
   "id": "ca69fbe8",
   "metadata": {},
   "source": [
    "<br>\n",
    "\n",
    "#### Comparison Function "
   ]
  },
  {
   "cell_type": "code",
   "execution_count": 3,
   "id": "b627c245",
   "metadata": {},
   "outputs": [],
   "source": [
    "def Compare(x,y,cat):\n",
    "\n",
    "    combo = pd.merge(x, y, left_index=True, right_index=True).reset_index()  \n",
    "    combo['match_qty'] = combo[['freq_b','freq_g']].min(axis=1)\n",
    "        \n",
    "    combo['xtra_b'] = combo['freq_b'] - combo['freq_g']\n",
    "    combo['xtra_g'] = combo['freq_g'] - combo['freq_b']\n",
    "    combo[['xtra_b','xtra_g']] = combo[['xtra_b','xtra_g']].astype(int)\n",
    "    combo['ext'] = combo['match_qty'] * combo['index']\n",
    "                \n",
    "    lefty = pd.merge(x, y, left_index=True, right_index=True, \n",
    "                         how='left',indicator=True) \\\n",
    "                         .query('_merge == \"left_only\"') \\\n",
    "                         .drop('_merge', 1) \\\n",
    "                         .reset_index()\n",
    "    \n",
    "    \n",
    "    righty = pd.merge(x, y, left_index=True, right_index=True, \n",
    "                         how='right',indicator=True) \\\n",
    "                         .query('_merge == \"right_only\"') \\\n",
    "                         .drop('_merge', 1) \\\n",
    "                         .reset_index() \n",
    "    \n",
    "    \n",
    "    extra_b = combo.loc[combo['xtra_b'] > 0,['index','xtra_b']]\n",
    "    \n",
    "    extra_g = combo.loc[combo['xtra_g'] > 0,['index','xtra_g']]\n",
    "       \n",
    "    return [combo, lefty, righty, extra_b, extra_g]"
   ]
  },
  {
   "cell_type": "markdown",
   "id": "28a6a2bb",
   "metadata": {},
   "source": [
    "<br>\n",
    "<br>\n",
    "\n",
    "#### Iterate through Bank / GL data "
   ]
  },
  {
   "cell_type": "code",
   "execution_count": 4,
   "id": "a2d9a6ef",
   "metadata": {},
   "outputs": [],
   "source": [
    "cats = ['Credits', 'Checks', 'Other_Pay', 'CL_Adv', 'CL_Pay', 'PR_x']\n",
    "\n",
    "output = {}\n",
    "\n",
    "for cat in cats:\n",
    "    \n",
    "    outer_list = []\n",
    "    \n",
    "    for i in range(0,5):\n",
    "        bank = list(bank_pool[cat][i]['Amount'])\n",
    "        gl = list(gl_pool[cat][i]['amount'])\n",
    "        \n",
    "        b_count = pd.Series(bank,name='freq_b',dtype='float').round(2).value_counts().to_frame()\n",
    "        g_count = pd.Series(gl,name='freq_g',dtype='float').round(2).value_counts().to_frame()\n",
    "        \n",
    "        view = Compare(b_count,g_count,cat)\n",
    "        \n",
    "        res = []\n",
    "        for tally, df in enumerate(view):\n",
    "            \n",
    "            if tally == 0:\n",
    "                res.append(df['ext'].sum())\n",
    "                \n",
    "            if tally == 1:   \n",
    "                data = pd.Series(np.repeat(df['index'],df['freq_b'])).tolist()\n",
    "                res.append([0, data])\n",
    "                \n",
    "            if tally == 2:\n",
    "                data = pd.Series(np.repeat(df['index'],df['freq_g'])).tolist()\n",
    "                res.append([0, data])\n",
    "            \n",
    "            if tally > 2:\n",
    "                res.append(df.values)\n",
    "        \n",
    "        outer_list.append(res)\n",
    "    \n",
    "    output[cat] = outer_list           "
   ]
  },
  {
   "cell_type": "code",
   "execution_count": 5,
   "id": "efaea264",
   "metadata": {},
   "outputs": [],
   "source": [
    "recon = pd.DataFrame(columns=['type',' | ', 'b_list','g_list','extra_b','extra_g'])\n",
    "\n",
    "for k,v in output.items():\n",
    "    df = pd.DataFrame(v, columns =[' | ', 'b_list','g_list','extra_b','extra_g'])\n",
    "    df.insert(0, 'type', k)\n",
    "    recon = pd.concat([recon,df],axis=0)\n",
    "\n",
    "recon.rename(index={0: 'Aug', 1: 'Sep', 2: 'Oct', 3: 'Nov', 4: 'Dec'}, inplace=True) \n",
    "recon = recon.reset_index().rename(columns={'index': 'month'})\n",
    "\n",
    "split_b = pd.DataFrame(recon['b_list'].to_list(), columns = ['(b)', 'b_items'])\n",
    "split_g = pd.DataFrame(recon['g_list'].to_list(), columns = ['(g)', 'g_items'])\n",
    "recon = pd.concat([recon, split_b, split_g], axis=1) \n",
    "recon = recon.drop(['b_list', 'g_list'], axis=1)\n",
    "\n",
    "\n",
    "cols = [' | ','(b)','(g)']\n",
    "recon[cols] = recon[cols].astype(float)\n",
    "\n",
    "reordered = ['month', 'type', ' | ', '(b)', '(g)', 'b_items', 'g_items', 'extra_b', 'extra_g']\n",
    "recon = recon[reordered]"
   ]
  },
  {
   "cell_type": "code",
   "execution_count": 6,
   "id": "a177f846",
   "metadata": {},
   "outputs": [
    {
     "name": "stdout",
     "output_type": "stream",
     "text": [
      "Stored 'recon' (DataFrame)\n"
     ]
    }
   ],
   "source": [
    "def Add_Items(x):\n",
    "    total = sum(x)\n",
    "    return total\n",
    "\n",
    "for row in recon.itertuples():\n",
    "    if len(row[9]) > 0:\n",
    "        for item in row[9]:\n",
    "            search_rev = item[0] * -1\n",
    "            if search_rev in(row[7]):\n",
    "                row[7].remove(search_rev)\n",
    "                continue\n",
    "            else:\n",
    "                row[7].append(item[0])\n",
    "                \n",
    "                \n",
    "for row in recon.itertuples():\n",
    "    if len(row[8]) > 0:\n",
    "        for item in row[8]:\n",
    "            search_rev = item[0] * -1\n",
    "            if search_rev in(row[6]):\n",
    "                row[6].remove(search_rev)\n",
    "                continue\n",
    "            else:\n",
    "                row[6].append(item[0])\n",
    "                \n",
    "for row in recon.itertuples():\n",
    "    if len(row[7]) > 0:\n",
    "        for item in row[7]:\n",
    "            search_rev = item * -1\n",
    "            if search_rev in(row[7]):\n",
    "                row[7].remove(search_rev)\n",
    "                row[7].remove(item)\n",
    "                continue\n",
    "        \n",
    "    if len(row[6]) > 0:\n",
    "        for item in row[6]:\n",
    "            search_rev = item * -1\n",
    "            if search_rev in(row[6]):\n",
    "                row[6].remove(search_rev)\n",
    "                row[6].remove(item)\n",
    "                continue\n",
    "\n",
    "recon['(g)'] = recon['g_items'].apply(Add_Items)\n",
    "recon['(b)'] = recon['b_items'].apply(Add_Items)\n",
    "\n",
    "recon = recon.set_index(['month','type'])\n",
    "recon = recon.merge(stats,left_index=True,right_index=True).reset_index(drop=False)\n",
    "\n",
    "reordered = ['month', 'type', 'bank', 'gl', ' | ', '(b)', '(g)', 'b_items', 'g_items']\n",
    "recon = recon[reordered]\n",
    "%store recon"
   ]
  }
 ],
 "metadata": {
  "kernelspec": {
   "display_name": "Python 3 (ipykernel)",
   "language": "python",
   "name": "python3"
  },
  "language_info": {
   "codemirror_mode": {
    "name": "ipython",
    "version": 3
   },
   "file_extension": ".py",
   "mimetype": "text/x-python",
   "name": "python",
   "nbconvert_exporter": "python",
   "pygments_lexer": "ipython3",
   "version": "3.7.7"
  }
 },
 "nbformat": 4,
 "nbformat_minor": 5
}
