{
 "cells": [
  {
   "cell_type": "markdown",
   "id": "3c4719d0",
   "metadata": {},
   "source": [
    "<br>\n",
    "\n",
    "### 4.3 Variance Detail"
   ]
  },
  {
   "cell_type": "code",
   "execution_count": 1,
   "id": "fb6ac6e4",
   "metadata": {},
   "outputs": [],
   "source": [
    "import pandas as pd\n",
    "\n",
    "pd.options.display.float_format = '{:,.2f}'.format\n",
    "\n",
    "%store -r recon\n",
    "%store -r variances\n",
    "%store -r detail\n",
    "\n",
    "%run FuncsMod.ipynb"
   ]
  },
  {
   "cell_type": "markdown",
   "id": "6ab3e82f",
   "metadata": {},
   "source": [
    "<br>  "
   ]
  },
  {
   "cell_type": "code",
   "execution_count": 2,
   "id": "c809253f",
   "metadata": {},
   "outputs": [
    {
     "data": {
      "text/html": [
       "<style  type=\"text/css\" >\n",
       "</style><table id=\"T_9dcb6_\" ><thead>    <tr>        <th class=\"blank level0\" ></th>        <th class=\"col_heading level0 col0\" >Aug</th>        <th class=\"col_heading level0 col1\" >Sep</th>        <th class=\"col_heading level0 col2\" >Oct</th>        <th class=\"col_heading level0 col3\" >Nov</th>        <th class=\"col_heading level0 col4\" >Dec</th>    </tr></thead><tbody>\n",
       "                <tr>\n",
       "                        <th id=\"T_9dcb6_level0_row0\" class=\"row_heading level0 row0\" >Credits</th>\n",
       "                        <td id=\"T_9dcb6_row0_col0\" class=\"data row0 col0\" >-0</td>\n",
       "                        <td id=\"T_9dcb6_row0_col1\" class=\"data row0 col1\" >0</td>\n",
       "                        <td id=\"T_9dcb6_row0_col2\" class=\"data row0 col2\" >21,464</td>\n",
       "                        <td id=\"T_9dcb6_row0_col3\" class=\"data row0 col3\" >-547,245</td>\n",
       "                        <td id=\"T_9dcb6_row0_col4\" class=\"data row0 col4\" >420,995</td>\n",
       "            </tr>\n",
       "            <tr>\n",
       "                        <th id=\"T_9dcb6_level0_row1\" class=\"row_heading level0 row1\" >Checks</th>\n",
       "                        <td id=\"T_9dcb6_row1_col0\" class=\"data row1 col0\" >-166,693</td>\n",
       "                        <td id=\"T_9dcb6_row1_col1\" class=\"data row1 col1\" >80,604</td>\n",
       "                        <td id=\"T_9dcb6_row1_col2\" class=\"data row1 col2\" >-86,174</td>\n",
       "                        <td id=\"T_9dcb6_row1_col3\" class=\"data row1 col3\" >-363,881</td>\n",
       "                        <td id=\"T_9dcb6_row1_col4\" class=\"data row1 col4\" >155,343</td>\n",
       "            </tr>\n",
       "            <tr>\n",
       "                        <th id=\"T_9dcb6_level0_row2\" class=\"row_heading level0 row2\" >Other_Pay</th>\n",
       "                        <td id=\"T_9dcb6_row2_col0\" class=\"data row2 col0\" >-634,894</td>\n",
       "                        <td id=\"T_9dcb6_row2_col1\" class=\"data row2 col1\" >124,811</td>\n",
       "                        <td id=\"T_9dcb6_row2_col2\" class=\"data row2 col2\" >-675,302</td>\n",
       "                        <td id=\"T_9dcb6_row2_col3\" class=\"data row2 col3\" >-353,899</td>\n",
       "                        <td id=\"T_9dcb6_row2_col4\" class=\"data row2 col4\" >-678,641</td>\n",
       "            </tr>\n",
       "            <tr>\n",
       "                        <th id=\"T_9dcb6_level0_row3\" class=\"row_heading level0 row3\" >CL_Adv</th>\n",
       "                        <td id=\"T_9dcb6_row3_col0\" class=\"data row3 col0\" >0</td>\n",
       "                        <td id=\"T_9dcb6_row3_col1\" class=\"data row3 col1\" >0</td>\n",
       "                        <td id=\"T_9dcb6_row3_col2\" class=\"data row3 col2\" >0</td>\n",
       "                        <td id=\"T_9dcb6_row3_col3\" class=\"data row3 col3\" >0</td>\n",
       "                        <td id=\"T_9dcb6_row3_col4\" class=\"data row3 col4\" >500</td>\n",
       "            </tr>\n",
       "            <tr>\n",
       "                        <th id=\"T_9dcb6_level0_row4\" class=\"row_heading level0 row4\" >CL_Pay</th>\n",
       "                        <td id=\"T_9dcb6_row4_col0\" class=\"data row4 col0\" >84,279</td>\n",
       "                        <td id=\"T_9dcb6_row4_col1\" class=\"data row4 col1\" >-425,070</td>\n",
       "                        <td id=\"T_9dcb6_row4_col2\" class=\"data row4 col2\" >0</td>\n",
       "                        <td id=\"T_9dcb6_row4_col3\" class=\"data row4 col3\" >82,371</td>\n",
       "                        <td id=\"T_9dcb6_row4_col4\" class=\"data row4 col4\" >82,371</td>\n",
       "            </tr>\n",
       "            <tr>\n",
       "                        <th id=\"T_9dcb6_level0_row5\" class=\"row_heading level0 row5\" >PR_x</th>\n",
       "                        <td id=\"T_9dcb6_row5_col0\" class=\"data row5 col0\" >-105,976</td>\n",
       "                        <td id=\"T_9dcb6_row5_col1\" class=\"data row5 col1\" >426,070</td>\n",
       "                        <td id=\"T_9dcb6_row5_col2\" class=\"data row5 col2\" >-0</td>\n",
       "                        <td id=\"T_9dcb6_row5_col3\" class=\"data row5 col3\" >0</td>\n",
       "                        <td id=\"T_9dcb6_row5_col4\" class=\"data row5 col4\" >0</td>\n",
       "            </tr>\n",
       "    </tbody></table>"
      ],
      "text/plain": [
       "<pandas.io.formats.style.Styler at 0x11ce276d0>"
      ]
     },
     "execution_count": 2,
     "metadata": {},
     "output_type": "execute_result"
    }
   ],
   "source": [
    "variances.style.format('{0:,.0f}')"
   ]
  },
  {
   "cell_type": "markdown",
   "id": "78940280",
   "metadata": {},
   "source": [
    "<br>"
   ]
  },
  {
   "cell_type": "code",
   "execution_count": 3,
   "id": "43d35639",
   "metadata": {},
   "outputs": [
    {
     "name": "stdout",
     "output_type": "stream",
     "text": [
      "bank   -462,362.76\n",
      "gl     -568,339.23\n",
      "\n",
      " |    -462,362.76\n",
      "\n",
      "(b)          0.00\n",
      "(g)   -105,976.47\n",
      "\n",
      "b_items              []\n",
      "g_items    [-105976.47]\n",
      "\n",
      "\n",
      "  month       date                      desc      amount\n",
      "0   Aug 2022-08-04      XFR TO PR - PR 08/05 -110,035.37\n",
      "1   Aug 2022-08-11      XFR TO PR - PR 08/12 -112,788.69\n",
      "2   Aug 2022-08-17     PR Xfers Pdate 8/19/2 -107,939.14\n",
      "3   Aug 2022-08-25             PR 08-26-2022 -105,976.47\n",
      "4   Aug 2022-08-26        PR xfer 09-02-2022 -105,976.47\n",
      "5   Aug 2022-08-02   XFR TO PR-401K 07/22/22   -5,322.15\n",
      "6   Aug 2022-08-04      XFR TO PR - PR 08/05   -5,319.63\n",
      "7   Aug 2022-08-11      XFR TO PR-401K 08/05   -4,948.63\n",
      "8   Aug 2022-08-12  PR 08/12/2022 401k Remit   -5,065.90\n",
      "9   Aug 2022-08-26     08-26-2022 401k Remit   -4,966.78\n"
     ]
    }
   ],
   "source": [
    "V_Detail('Aug','PR_x')"
   ]
  },
  {
   "cell_type": "code",
   "execution_count": 4,
   "id": "12d293d4",
   "metadata": {},
   "outputs": [
    {
     "name": "stdout",
     "output_type": "stream",
     "text": [
      "bank   -1,278,879.40\n",
      "gl     -1,194,600.00\n",
      "\n",
      " |    -1,194,100.00\n",
      "\n",
      "(b)   -84,779.40\n",
      "(g)      -500.00\n",
      "\n",
      "b_items    [-56450.12, -25920.83, -2408.45]\n",
      "g_items                            [-500.0]\n",
      "\n",
      "\n",
      "  month       date                                desc      amount\n",
      "0   Aug 2022-08-01  PAYMENT TO COMMERCIAL LOAN 1784020  -56,450.12\n",
      "1   Aug 2022-08-01  PAYMENT TO COMMERCIAL LOAN 1788423  -25,920.83\n",
      "2   Aug 2022-08-01  PAYMENT TO COMMERCIAL LOAN 1788696   -2,408.45\n",
      "3   Aug 2022-08-02  PAYMENT TO COMMERCIAL LOAN 1788696 -103,800.00\n",
      "4   Aug 2022-08-05  PAYMENT TO COMMERCIAL LOAN 1788696 -340,800.00\n",
      "5   Aug 2022-08-12  PAYMENT TO COMMERCIAL LOAN 1788696 -169,900.00\n",
      "6   Aug 2022-08-19  PAYMENT TO COMMERCIAL LOAN 1788696 -492,900.00\n",
      "7   Aug 2022-08-23  PAYMENT TO COMMERCIAL LOAN 1788696  -86,700.00\n",
      "\n",
      "  month       date                            desc      amount\n",
      "0   Aug 2022-08-02           REC RLOC TRANSACTIONS -103,800.00\n",
      "1   Aug 2022-08-05           REC RLOC TRANSACTIONS -340,800.00\n",
      "2   Aug 2022-08-12  Aug 2022 Bank Recon - ATTF LOC -169,900.00\n",
      "3   Aug 2022-08-19           Rec LOC Sweep 8/19/22 -492,900.00\n",
      "4   Aug 2022-08-23             Xfer Oper Act / LOC  -86,700.00\n",
      "5   Aug 2022-08-31         LOC Transfer Correction     -500.00\n"
     ]
    }
   ],
   "source": [
    "V_Detail('Aug','CL_Pay')"
   ]
  }
 ],
 "metadata": {
  "kernelspec": {
   "display_name": "Python 3 (ipykernel)",
   "language": "python",
   "name": "python3"
  },
  "language_info": {
   "codemirror_mode": {
    "name": "ipython",
    "version": 3
   },
   "file_extension": ".py",
   "mimetype": "text/x-python",
   "name": "python",
   "nbconvert_exporter": "python",
   "pygments_lexer": "ipython3",
   "version": "3.7.7"
  }
 },
 "nbformat": 4,
 "nbformat_minor": 5
}
