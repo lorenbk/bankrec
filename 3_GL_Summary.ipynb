{
 "cells": [
  {
   "cell_type": "markdown",
   "id": "8d4eb30a",
   "metadata": {},
   "source": [
    "### 3 GL Summary\n",
    "<br>\n"
   ]
  },
  {
   "cell_type": "code",
   "execution_count": 1,
   "id": "34abdfd5",
   "metadata": {},
   "outputs": [],
   "source": [
    "import pandas as pd\n",
    "import numpy as np\n",
    "import os\n",
    "pd.options.display.float_format = '{:,.2f}'.format"
   ]
  },
  {
   "cell_type": "markdown",
   "id": "dc48c2ac",
   "metadata": {},
   "source": [
    "####  Import GL"
   ]
  },
  {
   "cell_type": "code",
   "execution_count": 2,
   "id": "0f2ccba9",
   "metadata": {},
   "outputs": [],
   "source": [
    "os.chdir('/Users/lorenkarish/Desktop/JBS/Bank')\n",
    "\n",
    "gl = pd.read_excel('gl_Aug-Dec.xlsx', header=0) #<-----updated to include July\n",
    "\n",
    "gl.rename({'period': 'month'}, axis=1, inplace=True)\n",
    "gl['month'] = gl['month'].str[5:]\n",
    "gl.drop(['ref_num', 'seq_num','detail_id','type'], axis=1,inplace=True)\n",
    "\n",
    "calendar = {'07': 'Jul','08': 'Aug', '09': 'Sep', '10': 'Oct', '11': 'Nov', '12': 'Dec'}\n",
    "\n",
    "category = {'APC': 'AP Check', 'AR-CHECK': 'cash-in', 'AR-OTHER': 'cash-in', \n",
    "       'JE': 'JE', 'JEREV': 'reversal','PRC':'payroll', 'EXPCK':'pay'}\n",
    "\n",
    "gl['category'] = gl['source'].map(category)\n",
    "gl['month'] = gl['month'].map(calendar)"
   ]
  },
  {
   "cell_type": "markdown",
   "id": "bf0c4e1c",
   "metadata": {},
   "source": [
    "<br>\n",
    "<br>\n",
    "\n",
    "#### get July check data \n"
   ]
  },
  {
   "cell_type": "code",
   "execution_count": 3,
   "id": "8ae28adb",
   "metadata": {},
   "outputs": [
    {
     "name": "stdout",
     "output_type": "stream",
     "text": [
      "Stored 'Jul_AP' (DataFrame)\n"
     ]
    }
   ],
   "source": [
    "df = gl[(gl['month'] == 'Jul') & (gl['source'] == 'APC')].copy()\n",
    "df['check'] = df['desc'].str.extract('(\\d+)')\n",
    "Jul_AP = df[df['check'].str.len() > 3]\n",
    "%store Jul_AP\n",
    "\n",
    "gl.drop(gl[gl['month'] == 'Jul'].index, inplace=True)\n",
    "gl = gl.reset_index(drop=True)"
   ]
  },
  {
   "cell_type": "markdown",
   "id": "0b85fe01",
   "metadata": {},
   "source": [
    "<br>\n",
    "\n",
    "#### Balances"
   ]
  },
  {
   "cell_type": "code",
   "execution_count": 4,
   "id": "35f219c4",
   "metadata": {},
   "outputs": [],
   "source": [
    "begin_bal = {'Aug' : -18676.32, 'Sep' : -395433.52, 'Oct' : -67183.45,  \n",
    "            'Nov': -448413.32, 'Dec': -1040039.45} \n",
    "\n",
    "end_bal = {'Aug' : -395433.52, 'Sep' : -67183.45, 'Oct': -448413.32,  \n",
    "            'Nov': -1040039.45, 'Dec': -836464.73}\n",
    "\n",
    "b_bal = pd.Series(begin_bal)\n",
    "e_bal = pd.Series(end_bal)    "
   ]
  },
  {
   "cell_type": "markdown",
   "id": "cf45b19b",
   "metadata": {},
   "source": [
    "<br>\n",
    "\n",
    "### Loan\n",
    "#### Aug"
   ]
  },
  {
   "cell_type": "code",
   "execution_count": 5,
   "id": "c7d9f4fd",
   "metadata": {},
   "outputs": [],
   "source": [
    "LOC_08adv = gl[((gl['desc'].str.startswith('REC RLOC TRANSACTIONS')) & (gl['amount'] > 0)) | \\\n",
    "                (gl['desc'].str.contains('Xfer oper / Loc'))] \\\n",
    "                .groupby('month')['amount'].agg('sum')\n",
    "\n",
    "Aug = gl[(gl['category'] == 'JE') & (gl['month'] == 'Aug') & (gl['amount'] > 0) \n",
    "          & ~(gl['desc'].str.contains('INTEREST'))]\n",
    "\n",
    "LOC_AugMiscAdv = Aug[(Aug['desc'].str.contains('LOC')) & \n",
    "                     ~(Aug['desc'].str.contains('|'.join(['TRANSACTIONS', 'ATTF']))) |\n",
    "                      (Aug.index == 119 )] \\\n",
    "                      .groupby('month')['amount'].agg('sum')\n",
    "#<<-------------->>\n",
    "\n",
    "LOC_08pay = gl[(gl['desc'].str.startswith('REC RLOC TRANSACTIONS')) & (gl['amount'] < 0)] \\\n",
    "               .groupby('month')['amount'].agg('sum')\n",
    "\n",
    "\n",
    "Aug = gl[(gl['category'] == 'JE') & (gl['month'] == 'Aug') & (gl['amount'] < 0) \n",
    "          & ~(gl['desc'].str.contains('INTEREST'))]\n",
    "\n",
    "LOC_AugMiscPay = Aug[(Aug['desc'].str.contains('LOC')) & ~(Aug['desc'].str.contains('TRANSACTIONS'))] \\\n",
    "                      .groupby('month')['amount'].agg('sum')\n",
    "#<<-------------->>\n",
    "\n",
    "LOC_08pay = + LOC_08pay + LOC_AugMiscPay\n",
    "LOC_08adv = + LOC_08adv + LOC_AugMiscAdv"
   ]
  },
  {
   "cell_type": "markdown",
   "id": "379652eb",
   "metadata": {},
   "source": [
    "#### Sep"
   ]
  },
  {
   "cell_type": "code",
   "execution_count": 6,
   "id": "1f34a800",
   "metadata": {},
   "outputs": [],
   "source": [
    "LOC_09adv = gl[(gl['desc'].str.startswith('LOC TRANSFER')) & (gl['amount'] > 0)] \\\n",
    "              .groupby('month')['amount'].agg('sum')\n",
    "\n",
    "LOC_09pay = gl[(gl['desc'].str.startswith('LOC TRANSFER')) & (gl['amount'] < 0)] \\\n",
    "               .groupby('month')['amount'].agg('sum')\n",
    "\n",
    "Sep_Misc = gl[(gl['category'] == 'JE') & (gl['month'] == 'Sep') & (gl['desc'].str.contains('LOC')) \\\n",
    "          & ~(gl['desc'].str.contains('TRANSFER'))] #LOC Annual Renewal: -$11373.32 + dr&cr for same"
   ]
  },
  {
   "cell_type": "markdown",
   "id": "b99b3e8c",
   "metadata": {},
   "source": [
    "#### Oct"
   ]
  },
  {
   "cell_type": "code",
   "execution_count": 7,
   "id": "5bebb194",
   "metadata": {},
   "outputs": [],
   "source": [
    "JE = gl[gl['category'] == 'JE']\n",
    "\n",
    "LOC_10adv = JE[(JE['month'] == 'Oct') & (JE['desc'] == 'LOC CREDITS')] \\\n",
    "               .groupby('month')['amount'].agg('sum')\n",
    "\n",
    "LOC_10pay = JE[(JE['month'] == 'Oct') & (JE['desc'] == 'LOC REPAYMENT')] \\\n",
    "               .groupby('month')['amount'].agg('sum')"
   ]
  },
  {
   "cell_type": "markdown",
   "id": "661bda5c",
   "metadata": {},
   "source": [
    "#### Nov"
   ]
  },
  {
   "cell_type": "code",
   "execution_count": 8,
   "id": "1c5b4793",
   "metadata": {},
   "outputs": [],
   "source": [
    "LOC_11adv = JE[(JE['month'] == 'Nov') & (JE['desc'] == 'ADV FROM LOC')] \\\n",
    "               .groupby('month')['amount'].agg('sum')\n",
    "\n",
    "LOC_11pay = JE[(JE['month'] == 'Nov') & (JE['desc'] == 'PYMT TO LOC')] \\\n",
    "               .groupby('month')['amount'].agg('sum')"
   ]
  },
  {
   "cell_type": "markdown",
   "id": "90580665",
   "metadata": {},
   "source": [
    "#### Dec"
   ]
  },
  {
   "cell_type": "code",
   "execution_count": 9,
   "id": "6d3f9069",
   "metadata": {},
   "outputs": [],
   "source": [
    "LOC_12adv = JE[((JE['month'] == 'Dec') & (JE['desc'].str.contains(r'^(?=.*ADVANCE)(?=.*LOC)'))) | \\\n",
    "                (JE.index == 1017)] \\\n",
    "                .groupby('month')['amount'].agg('sum') \n",
    "\n",
    "LOC_12pay = JE[(JE['month'] == 'Dec') & (JE['desc'] == 'PAYMENT TO LOC')] \\\n",
    "               .groupby('month')['amount'].agg('sum')"
   ]
  },
  {
   "cell_type": "markdown",
   "id": "8397f952",
   "metadata": {},
   "source": [
    "<br>"
   ]
  },
  {
   "cell_type": "code",
   "execution_count": 10,
   "id": "977ac645",
   "metadata": {},
   "outputs": [],
   "source": [
    "LOC_adv = pd.concat([LOC_08adv, LOC_09adv, LOC_10adv, LOC_11adv, LOC_12adv])\n",
    "LOC_pay = pd.concat([LOC_08pay, LOC_09pay, LOC_10pay, LOC_11pay, LOC_12pay])"
   ]
  },
  {
   "cell_type": "markdown",
   "id": "724dacf7",
   "metadata": {},
   "source": [
    "### Checks\n",
    "\n",
    "distinction b/w 3 and 5-digit check numbers "
   ]
  },
  {
   "cell_type": "code",
   "execution_count": 11,
   "id": "b24dcb8b",
   "metadata": {},
   "outputs": [],
   "source": [
    "checks_A = gl[(gl['desc'].str.contains(r'\\d{5}')) & (gl['category'] == 'AP Check') & \\\n",
    "              ~(gl['desc'].str.contains('void'))] \n",
    "\n",
    "checks_B = gl[(gl['category'] == 'AP Check') & ~(gl.index.isin(checks_A.index)) & \\\n",
    "             ~(gl['desc'].str.contains('void'))]\n",
    "\n",
    "checks_Op = checks_A.groupby('month')['amount'].agg('sum')\n",
    "checks_Other = checks_B.groupby('month')['amount'].agg('sum')"
   ]
  },
  {
   "cell_type": "markdown",
   "id": "cdb1d5c7",
   "metadata": {},
   "source": [
    "### Voided Checks\n",
    "some checks are voided w/ multiple entries (e.g. original amt of 100, reversals of 75 and 25)\n",
    " - 5-digit: 227 entries \n",
    " - 3-digit: 75 entries \n",
    " "
   ]
  },
  {
   "cell_type": "code",
   "execution_count": 12,
   "id": "c34e5fa7",
   "metadata": {},
   "outputs": [],
   "source": [
    "voids = gl[(gl['source'] == 'APC') & (gl['desc'].str.contains('void'))]\n",
    "voids_5 = voids[voids['desc'].str.contains(r'\\d{5}')]\n",
    "\n",
    "voids_3 = voids[~(voids.index.isin(voids_5.index))]\n",
    "\n",
    "voids_5 = voids_5.groupby('month')['amount'].agg('sum')\n",
    "voids_3 = voids_3.groupby('month')['amount'].agg('sum')"
   ]
  },
  {
   "cell_type": "markdown",
   "id": "07df680e",
   "metadata": {},
   "source": [
    "### Other_Payments\n",
    "includes:\n",
    "- 376K: Capital One (Aug, Sep)\n",
    "- 165K: ABT payment"
   ]
  },
  {
   "cell_type": "code",
   "execution_count": 13,
   "id": "3d3c1bb9",
   "metadata": {},
   "outputs": [],
   "source": [
    "other_pay = gl[(gl['category'] == 'JE') & (gl['desc'].str.contains('Capital'))] \\\n",
    "                .groupby('month')['amount'].agg('sum')"
   ]
  },
  {
   "cell_type": "markdown",
   "id": "82b9ced0",
   "metadata": {},
   "source": [
    "\n",
    "### Deposits\n",
    " - AR-Check\n",
    " - AR-Other"
   ]
  },
  {
   "cell_type": "code",
   "execution_count": 14,
   "id": "2fcc0ca9",
   "metadata": {},
   "outputs": [],
   "source": [
    "AR_DepA = gl[gl['source'] == 'AR-CHECK'].groupby('month')['amount'].agg('sum')\n",
    "AR_DepB = gl[gl['source'] == 'AR-OTHER'].groupby('month')['amount'].agg('sum')\n",
    "cash_in = AR_DepA.add(AR_DepB, fill_value=0)"
   ]
  },
  {
   "cell_type": "markdown",
   "id": "a10978cb",
   "metadata": {},
   "source": [
    "\n",
    "### Take_Inventory"
   ]
  },
  {
   "cell_type": "markdown",
   "id": "2783309a",
   "metadata": {},
   "source": [
    "- this needs to be executed twice (see code comment)"
   ]
  },
  {
   "cell_type": "code",
   "execution_count": 20,
   "id": "f0e8d110",
   "metadata": {},
   "outputs": [],
   "source": [
    "LOC_08in = gl[((gl['desc'].str.startswith('REC RLOC TRANSACTIONS')) & (gl['amount'] > 0)) | \\\n",
    "                (gl['desc'].str.contains('Xfer oper / Loc'))]\n",
    "\n",
    "Aug = gl[(gl['category'] == 'JE') & (gl['month'] == 'Aug') & (gl['amount'] > 0) \n",
    "          & ~(gl['desc'].str.contains('INTEREST'))].copy()\n",
    "\n",
    "LOC_08_Misc_In = Aug[(Aug['desc'].str.contains('LOC')) & \n",
    "                     ~(Aug['desc'].str.contains('|'.join(['TRANSACTIONS', 'ATTF']))) |\n",
    "                      (Aug.index == 119 )]\n",
    "\n",
    "LOC_08out = gl[(gl['desc'].str.startswith('REC RLOC TRANSACTIONS')) & (gl['amount'] < 0)]\n",
    "\n",
    "Aug = gl[(gl['category'] == 'JE') & (gl['month'] == 'Aug') & (gl['amount'] < 0) \n",
    "          & ~(gl['desc'].str.contains('INTEREST'))].copy()\n",
    "\n",
    "LOC_08_Misc_Out = Aug[(Aug['desc'].str.contains('LOC')) & ~(Aug['desc'].str.contains('TRANSACTIONS'))]\n",
    "\n",
    "LOC_09in = gl[(gl['desc'].str.startswith('LOC TRANSFER')) & (gl['amount'] > 0)]\n",
    "LOC_09out = gl[(gl['desc'].str.startswith('LOC TRANSFER')) & (gl['amount'] < 0)]\n",
    "\n",
    "\n",
    "JE = gl[gl['category'] == 'JE'].copy()\n",
    "LOC_10in = JE[(JE['month'] == 'Oct') & (JE['desc'] == 'LOC CREDITS')]\n",
    "LOC_10out = JE[(JE['month'] == 'Oct') & (JE['desc'] == 'LOC REPAYMENT')] \n",
    "\n",
    "\n",
    "LOC_11in = JE[(JE['month'] == 'Nov') & (JE['desc'] == 'ADV FROM LOC')] \n",
    "LOC_11out = JE[(JE['month'] == 'Nov') & (JE['desc'] == 'PYMT TO LOC')]\n",
    "\n",
    "LOC_12in = JE[((JE['month'] == 'Dec') & (JE['desc'].str.contains(r'^(?=.*ADVANCE)(?=.*LOC)'))) | \\\n",
    "                (JE.index == 1017)]\n",
    "\n",
    "LOC_12out = JE[(JE['month'] == 'Dec') & (JE['desc'] == 'PAYMENT TO LOC')]\n",
    "\n",
    "\n",
    "\n",
    "checks_1 = gl[(gl['desc'].str.contains(r'\\d{5}')) & (gl['category'] == 'AP Check') & \\\n",
    "              ~(gl['desc'].str.contains('void'))] \n",
    "\n",
    "checks_2 = gl[(gl['category'] == 'AP Check') & ~(gl.index.isin(checks_1.index)) & \\\n",
    "             ~(gl['desc'].str.contains('void'))]\n",
    "\n",
    "\n",
    "voids = gl[(gl['source'] == 'APC') & (gl['desc'].str.contains('void'))]\n",
    "voids_five = voids[voids['desc'].str.contains(r'\\d{5}')]\n",
    "voids_three = voids[~(voids.index.isin(voids_5.index))]\n",
    "\n",
    "\n",
    "noncheck_pay = gl[(gl['category'] == 'JE') & (gl['desc'].str.contains('Capital'))]\n",
    "\n",
    "\n",
    "AR_Dep_A = gl[gl['source'] == 'AR-CHECK']\n",
    "AR_Dep_B = gl[gl['source'] == 'AR-OTHER']\n",
    "\n",
    "misc_deps = gl[(gl['category'] == 'JE') & (gl['desc'].str.contains('Iron Ox')) |\n",
    "                ((gl['month'] == 'Dec') &(gl['desc'] == 'ERC PAYMENT')) | \n",
    "                ((gl['month'] == 'Dec') &(gl['desc'] == 'CORRECTING DEPOSIT')) |\n",
    "                (gl['desc'].str.contains('COBRA'))]\n",
    "\n",
    "\n",
    "#<---- PR_X has to be removed the 1st time this cell is executed\n",
    "master = pd.concat([LOC_08in, LOC_08_Misc_Out, LOC_08out, LOC_08_Misc_In, LOC_09in, LOC_09out, \\\n",
    "                    LOC_10in, LOC_10out, LOC_11in, LOC_11out, LOC_12in, LOC_12out,  checks_1, \\\n",
    "                    checks_2, voids_five, voids_three, AR_Dep_A, AR_Dep_B, misc_deps,noncheck_pay,PR_X])\n",
    "\n",
    "done = list(master.index)\n",
    "to_do = gl[~(gl.index.isin(done))].copy()\n",
    "\n",
    "# these are duplicate transactions that net to zero (contains orig entry + reversal)\n",
    "dupe_JEs = [124,125,379,380,376,377,378,381,854,855,1020,1021,1022,1023,1024,1025,\n",
    "           957,1038,185,186]\n",
    "\n",
    "to_do = to_do[~(to_do.index.isin(dupe_JEs))].copy()"
   ]
  },
  {
   "cell_type": "markdown",
   "id": "e8f0f905",
   "metadata": {},
   "source": [
    "<br>\n",
    "\n",
    "### PR Transfer"
   ]
  },
  {
   "cell_type": "code",
   "execution_count": 17,
   "id": "861e7039",
   "metadata": {},
   "outputs": [],
   "source": [
    "out_of_scope = [175,388,855,1073,957]\n",
    "Aug_PR_X_401 = [18,104,117,173,12]\n",
    "\n",
    "\n",
    "big_debits = to_do[to_do['amount'] < -70000].copy()\n",
    "PR_X_a = big_debits[~(big_debits.index.isin(out_of_scope))]\n",
    "PR_X_b = to_do[to_do.index.isin(Aug_PR_X_401)]\n",
    "PR_X = pd.concat([PR_X_a,PR_X_b], axis=0)\n",
    "PR_Xfer = PR_X.groupby('month')['amount'].agg('sum')"
   ]
  },
  {
   "cell_type": "markdown",
   "id": "9c57b93c",
   "metadata": {},
   "source": [
    "<br>\n",
    "\n",
    "### Other Deposits\n",
    "includes:\n",
    "- 163K, Iron Ox (Aug, Sep)\n",
    "- 242K, ERC payment; 438K w/ -196K Correction (both Dec)\n",
    "- 8K: Cobra Payments"
   ]
  },
  {
   "cell_type": "code",
   "execution_count": 18,
   "id": "f3acd299",
   "metadata": {},
   "outputs": [],
   "source": [
    "other_deps = gl[(gl['category'] == 'JE') & (gl['desc'].str.contains('Iron Ox')) |\n",
    "                ((gl['month'] == 'Dec') &(gl['desc'] == 'ERC PAYMENT')) | \n",
    "                ((gl['month'] == 'Dec') &(gl['desc'] == 'CORRECTING DEPOSIT')) |\n",
    "                (gl['desc'].str.contains('COBRA'))] \\\n",
    "                .groupby('month')['amount'].agg('sum')\n",
    "\n",
    "\n",
    "more_deps = to_do[to_do['amount'] > 0].groupby('month')['amount'].agg('sum')\n",
    "\n",
    "other_deps = other_deps.add(more_deps, fill_value=0)"
   ]
  },
  {
   "cell_type": "markdown",
   "id": "d7d28534",
   "metadata": {},
   "source": [
    "### Other_Payments_part2\n",
    "\n",
    " - expands on criteria used above"
   ]
  },
  {
   "cell_type": "code",
   "execution_count": 19,
   "id": "72a2d50e",
   "metadata": {},
   "outputs": [],
   "source": [
    "other_pay_a = gl[(gl['category'] == 'JE') & (gl['desc'].str.contains('Capital'))] \\\n",
    "                .groupby('month')['amount'].agg('sum')\n",
    "\n",
    "other_pay_b = to_do[to_do['amount'] < 0].groupby('month')['amount'].agg('sum')\n",
    "\n",
    "other_pay = other_pay_a.add(other_pay_b, fill_value=0)"
   ]
  },
  {
   "cell_type": "markdown",
   "id": "09991d1a",
   "metadata": {},
   "source": [
    "<br>\n"
   ]
  },
  {
   "cell_type": "markdown",
   "id": "ec4fb171",
   "metadata": {},
   "source": [
    "\n",
    "###  GL Summary"
   ]
  },
  {
   "cell_type": "code",
   "execution_count": 21,
   "id": "d0ad3ea2",
   "metadata": {},
   "outputs": [
    {
     "data": {
      "text/html": [
       "<div>\n",
       "<style scoped>\n",
       "    .dataframe tbody tr th:only-of-type {\n",
       "        vertical-align: middle;\n",
       "    }\n",
       "\n",
       "    .dataframe tbody tr th {\n",
       "        vertical-align: top;\n",
       "    }\n",
       "\n",
       "    .dataframe thead th {\n",
       "        text-align: right;\n",
       "    }\n",
       "</style>\n",
       "<table border=\"1\" class=\"dataframe\">\n",
       "  <thead>\n",
       "    <tr style=\"text-align: right;\">\n",
       "      <th></th>\n",
       "      <th>Aug</th>\n",
       "      <th>Sep</th>\n",
       "      <th>Oct</th>\n",
       "      <th>Nov</th>\n",
       "      <th>Dec</th>\n",
       "    </tr>\n",
       "  </thead>\n",
       "  <tbody>\n",
       "    <tr>\n",
       "      <th>Beg</th>\n",
       "      <td>-18,676.32</td>\n",
       "      <td>-395,433.52</td>\n",
       "      <td>-67,183.45</td>\n",
       "      <td>-448,413.32</td>\n",
       "      <td>-1,040,039.45</td>\n",
       "    </tr>\n",
       "    <tr>\n",
       "      <th>Deposits_AR</th>\n",
       "      <td>2,219,706.33</td>\n",
       "      <td>1,375,376.37</td>\n",
       "      <td>1,178,008.49</td>\n",
       "      <td>2,398,589.41</td>\n",
       "      <td>2,478,939.92</td>\n",
       "    </tr>\n",
       "    <tr>\n",
       "      <th>Other_Deposits</th>\n",
       "      <td>90,148.75</td>\n",
       "      <td>81,966.71</td>\n",
       "      <td>17,012.83</td>\n",
       "      <td>34,619.01</td>\n",
       "      <td>326,129.94</td>\n",
       "    </tr>\n",
       "    <tr>\n",
       "      <th>Checks_Op</th>\n",
       "      <td>-1,911,038.20</td>\n",
       "      <td>-160,823.82</td>\n",
       "      <td>-415,618.05</td>\n",
       "      <td>-1,271,919.96</td>\n",
       "      <td>-1,793,067.23</td>\n",
       "    </tr>\n",
       "    <tr>\n",
       "      <th>Voids_Op</th>\n",
       "      <td>385,114.14</td>\n",
       "      <td>11,674.95</td>\n",
       "      <td>114,854.69</td>\n",
       "      <td>59,657.63</td>\n",
       "      <td>1,029,621.96</td>\n",
       "    </tr>\n",
       "    <tr>\n",
       "      <th>Checks_Other</th>\n",
       "      <td>-975,969.23</td>\n",
       "      <td>-50,520.47</td>\n",
       "      <td>-970,118.55</td>\n",
       "      <td>-793,378.00</td>\n",
       "      <td>-1,697,038.51</td>\n",
       "    </tr>\n",
       "    <tr>\n",
       "      <th>Voids_Other</th>\n",
       "      <td>46,054.33</td>\n",
       "      <td>14,490.10</td>\n",
       "      <td>113,858.03</td>\n",
       "      <td>48,588.84</td>\n",
       "      <td>194,411.44</td>\n",
       "    </tr>\n",
       "    <tr>\n",
       "      <th>Other_Payments</th>\n",
       "      <td>-681,673.32</td>\n",
       "      <td>-293,219.73</td>\n",
       "      <td>-423,392.17</td>\n",
       "      <td>-589,965.33</td>\n",
       "      <td>-546,422.80</td>\n",
       "    </tr>\n",
       "    <tr>\n",
       "      <th>CL_Adv</th>\n",
       "      <td>1,645,500.00</td>\n",
       "      <td>1,269,000.00</td>\n",
       "      <td>884,500.00</td>\n",
       "      <td>899,500.00</td>\n",
       "      <td>1,020,500.00</td>\n",
       "    </tr>\n",
       "    <tr>\n",
       "      <th>CL_Pay</th>\n",
       "      <td>-1,194,600.00</td>\n",
       "      <td>-1,919,694.04</td>\n",
       "      <td>-880,335.14</td>\n",
       "      <td>-1,377,317.73</td>\n",
       "      <td>-809,500.00</td>\n",
       "    </tr>\n",
       "    <tr>\n",
       "      <th>PR_x</th>\n",
       "      <td>-568,339.23</td>\n",
       "      <td>0.00</td>\n",
       "      <td>-359,172.16</td>\n",
       "      <td>-458,700.00</td>\n",
       "      <td>-355,600.00</td>\n",
       "    </tr>\n",
       "    <tr>\n",
       "      <th>End</th>\n",
       "      <td>-395,433.52</td>\n",
       "      <td>-67,183.45</td>\n",
       "      <td>-448,413.32</td>\n",
       "      <td>-1,040,039.45</td>\n",
       "      <td>-836,464.73</td>\n",
       "    </tr>\n",
       "  </tbody>\n",
       "</table>\n",
       "</div>"
      ],
      "text/plain": [
       "                         Aug           Sep          Oct           Nov  \\\n",
       "Beg               -18,676.32   -395,433.52   -67,183.45   -448,413.32   \n",
       "Deposits_AR     2,219,706.33  1,375,376.37 1,178,008.49  2,398,589.41   \n",
       "Other_Deposits     90,148.75     81,966.71    17,012.83     34,619.01   \n",
       "Checks_Op      -1,911,038.20   -160,823.82  -415,618.05 -1,271,919.96   \n",
       "Voids_Op          385,114.14     11,674.95   114,854.69     59,657.63   \n",
       "Checks_Other     -975,969.23    -50,520.47  -970,118.55   -793,378.00   \n",
       "Voids_Other        46,054.33     14,490.10   113,858.03     48,588.84   \n",
       "Other_Payments   -681,673.32   -293,219.73  -423,392.17   -589,965.33   \n",
       "CL_Adv          1,645,500.00  1,269,000.00   884,500.00    899,500.00   \n",
       "CL_Pay         -1,194,600.00 -1,919,694.04  -880,335.14 -1,377,317.73   \n",
       "PR_x             -568,339.23          0.00  -359,172.16   -458,700.00   \n",
       "End              -395,433.52    -67,183.45  -448,413.32 -1,040,039.45   \n",
       "\n",
       "                         Dec  \n",
       "Beg            -1,040,039.45  \n",
       "Deposits_AR     2,478,939.92  \n",
       "Other_Deposits    326,129.94  \n",
       "Checks_Op      -1,793,067.23  \n",
       "Voids_Op        1,029,621.96  \n",
       "Checks_Other   -1,697,038.51  \n",
       "Voids_Other       194,411.44  \n",
       "Other_Payments   -546,422.80  \n",
       "CL_Adv          1,020,500.00  \n",
       "CL_Pay           -809,500.00  \n",
       "PR_x             -355,600.00  \n",
       "End              -836,464.73  "
      ]
     },
     "execution_count": 21,
     "metadata": {},
     "output_type": "execute_result"
    }
   ],
   "source": [
    "gl_summary = pd.concat([b_bal, cash_in, other_deps, checks_Op, voids_5, checks_Other, voids_3, other_pay, \\\n",
    "                        LOC_adv, LOC_pay, PR_Xfer, e_bal],axis=1)\n",
    "\n",
    "gl_summary.columns = ['Beg','Deposits_AR','Other_Deposits','Checks_Op','Voids_Op','Checks_Other', \\\n",
    "                      'Voids_Other','Other_Payments','CL_Adv','CL_Pay','PR_x','End']\n",
    "\n",
    "gl_summary = gl_summary.fillna(0)\n",
    "gl_summary = gl_summary.T\n",
    "gl_summary"
   ]
  },
  {
   "cell_type": "markdown",
   "id": "5f932c19",
   "metadata": {},
   "source": [
    "<br>\n"
   ]
  },
  {
   "cell_type": "markdown",
   "id": "d4a69f58",
   "metadata": {},
   "source": [
    "<br>\n",
    "\n",
    "#### create Amount Frequency structure\n",
    " - added for use in Part 4"
   ]
  },
  {
   "cell_type": "code",
   "execution_count": 22,
   "id": "3c638f51",
   "metadata": {},
   "outputs": [],
   "source": [
    "more_deps = to_do[to_do['amount'] > 0]\n",
    "\n",
    "other_pay_a = gl[(gl['category'] == 'JE') & (gl['desc'].str.contains('Capital'))] \n",
    "other_pay_b = to_do[to_do['amount'] < 0]\n",
    "\n",
    "other_pay_both = pd.concat([other_pay_a, other_pay_b])"
   ]
  },
  {
   "cell_type": "code",
   "execution_count": 23,
   "id": "af07b2af",
   "metadata": {},
   "outputs": [],
   "source": [
    "credits = pd.concat([AR_Dep_A, AR_Dep_B, misc_deps, more_deps]) \n",
    "\n",
    "chex = pd.concat([checks_1, voids_five])\n",
    "\n",
    "other_pay = pd.concat([checks_2, voids_three,other_pay_both]) \n",
    "\n",
    "loan_a = pd.concat([LOC_08in, LOC_08_Misc_In, LOC_09in, LOC_10in, LOC_11in, LOC_12in])\n",
    "loan_p = pd.concat([LOC_08out, LOC_08_Misc_Out, LOC_09out, LOC_10out, LOC_11out, LOC_12out])\n",
    "\n",
    "PR_Transfers = PR_X                      \n",
    "\n",
    "                   \n",
    "                   \n",
    "gl_cats = {'Credits':  credits, 'Checks':  chex, 'Other_Pay':  other_pay,\n",
    "       'CL_Adv':  loan_a, 'CL_Pay':  loan_p, 'PR_x': PR_Transfers}\n",
    "\n",
    "gl_pool = {}\n",
    "\n",
    "for k,v in gl_cats.items():\n",
    "    mo_hist = []\n",
    "    for month in list(gl['month'].unique()):\n",
    "        results = v[v['month'] == month].copy() \n",
    "        mo_hist.append(results) \n",
    "\n",
    "    gl_pool[k] = mo_hist  "
   ]
  },
  {
   "cell_type": "code",
   "execution_count": 24,
   "id": "c04d609a",
   "metadata": {},
   "outputs": [
    {
     "name": "stdout",
     "output_type": "stream",
     "text": [
      "Stored 'gl' (DataFrame)\n",
      "Stored 'gl_summary' (DataFrame)\n",
      "Stored 'gl_pool' (dict)\n"
     ]
    }
   ],
   "source": [
    "%store gl\n",
    "%store gl_summary\n",
    "%store gl_pool "
   ]
  }
 ],
 "metadata": {
  "kernelspec": {
   "display_name": "Python 3 (ipykernel)",
   "language": "python",
   "name": "python3"
  },
  "language_info": {
   "codemirror_mode": {
    "name": "ipython",
    "version": 3
   },
   "file_extension": ".py",
   "mimetype": "text/x-python",
   "name": "python",
   "nbconvert_exporter": "python",
   "pygments_lexer": "ipython3",
   "version": "3.7.7"
  }
 },
 "nbformat": 4,
 "nbformat_minor": 5
}
