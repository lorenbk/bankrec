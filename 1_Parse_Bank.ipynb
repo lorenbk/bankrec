{
 "cells": [
  {
   "cell_type": "markdown",
   "id": "94a63a47",
   "metadata": {},
   "source": [
    "### 1 Parse Bank\n",
    "<br>"
   ]
  },
  {
   "cell_type": "code",
   "execution_count": 1,
   "id": "e514d2fa",
   "metadata": {},
   "outputs": [],
   "source": [
    "import pandas as pd\n",
    "import os, re\n",
    "from pdfminer.high_level import extract_pages, extract_text\n",
    "\n",
    "%run ./_projectDoc.ipynb"
   ]
  },
  {
   "cell_type": "code",
   "execution_count": 2,
   "id": "bae3a5f8",
   "metadata": {},
   "outputs": [],
   "source": [
    "os.chdir('/Users/lorenkarish/Desktop/JBS/Bank/')\n",
    "\n",
    "files = ['08-2022.pdf','09-2022.pdf','10-2022.pdf','11-2022.pdf','12-2022.pdf']\n",
    "\n",
    "log, history, end_page = {},{},{}\n",
    "f_dates, f_memo, f_dollars = {},{},{}\n",
    "\n",
    "exceptions = ['Average Available Balance', 'Post Date', 'Amount', 'Debits', 'CORPORATION',\n",
    "              'CORPORATIO', 'Credits', 'Balance','Description', 'Checking Account Statements',\n",
    "              '353B2A2A64DD174EA02A1BB8F7C8F6C0', ' ','JBS PIPELINE LLC', 'Checks Cleared',\n",
    "              'Check Nbr', 'Date','20220831', '20220931','20221031','20221131','20221231',\n",
    "              'TX_3700_SAUNDERS CONSTRUCTION, IN_CASTLE','ROCK INDUST']\n",
    "\n",
    "SEPT_WTH = ['$385,500.00','$60,000.00','$354,853.61', '$673.80','$276,500.00','$110,500.00',\n",
    "            '$0.05','$0.37','$1,000.00','$1,292.26', '$1,860.00','$13,382.75','$19,933.20','$431.64',\n",
    "            '$1,379.40','$20,000.00','$113,500.00','$24,160.17', '$10,961.39','$24,852.20','$132,758.32',\n",
    "            '$109,000.00','$179,064.10','$157,000.00', '$20,000.00','$96,000.00','$43,552.57', '$568,187.07']\n",
    "\n",
    "for f in files:\n",
    "    \n",
    "    mode = \"off\"\n",
    "    page = 1\n",
    "    pg_stop = 50\n",
    "    dates, memo, dollars = [],[],[]\n",
    "    \n",
    "    text = extract_text(f)\n",
    "    key = f[:2]\n",
    "     \n",
    "    for line in text.splitlines():\n",
    "        \n",
    "        if line == \"Post Date\":\n",
    "            mode = \"stream\" \n",
    "        \n",
    "        if line.startswith('XXXXXXXXXXXXX3669 Statement'):\n",
    "            mode = \"off\"\n",
    "            Process_Page(dates, memo, dollars, page)\n",
    "            dates, memo, dollars = [],[],[]\n",
    "            page += 1\n",
    "            \n",
    "        if line == \"Checks Cleared\":\n",
    "            pg_stop = page\n",
    "       \n",
    "        if page > pg_stop:\n",
    "            break\n",
    "        else:    \n",
    "            if mode == \"stream\":\n",
    "                if ((len(line) > 0) & (line not in exceptions)):\n",
    "                    Process_Data(line) \n",
    "                    \n",
    "    df = pd.concat([v for k,v in log.items()])\n",
    "    history[key] = df\n",
    "    log = {}"
   ]
  },
  {
   "cell_type": "markdown",
   "id": "e171157f",
   "metadata": {},
   "source": [
    "<br>\n",
    "\n",
    "### Monthly Activity\n",
    " -  parsed data (except for the final page of activity) stored in 'history' \n",
    " -  convert Balance type (text to numeric)\n",
    " -  calculate transaction Amount (b/c parser only captures Balance for each row)"
   ]
  },
  {
   "cell_type": "code",
   "execution_count": 3,
   "id": "e97191f8",
   "metadata": {},
   "outputs": [
    {
     "data": {
      "text/plain": [
       "dict_keys(['08', '09', '10', '11', '12'])"
      ]
     },
     "execution_count": 3,
     "metadata": {},
     "output_type": "execute_result"
    }
   ],
   "source": [
    "history.keys()"
   ]
  },
  {
   "cell_type": "code",
   "execution_count": 4,
   "id": "ede552b3",
   "metadata": {},
   "outputs": [],
   "source": [
    "for k,v in history.items():\n",
    "    v['Balance'] = v['Balance'].replace('[\\$,]', '', regex=True).astype(float)\n",
    "    v.insert(2, \"Amount\", v['Balance'].diff().fillna(0))"
   ]
  },
  {
   "cell_type": "markdown",
   "id": "fa325d15",
   "metadata": {},
   "source": [
    "<br>\n",
    "\n",
    "### Final Page \n",
    "\n",
    " Several issues w/ reading dollar amounts:\n",
    "  - irregular line sequence \n",
    "  - presence of non-essential data (checks cleared, daily balances, etc. \n",
    "  - Sept PDF has unique issues"
   ]
  },
  {
   "cell_type": "code",
   "execution_count": 5,
   "id": "6cf53217",
   "metadata": {},
   "outputs": [],
   "source": [
    "for k,v in f_dates.items():\n",
    "    if k!= '12':\n",
    "        line_stop = f_memo[k].index(\"Ending Balance\") + 1\n",
    "        f_memo[k] = f_memo[k][:line_stop]\n",
    "        \n",
    "for k,v in f_memo.items():\n",
    "    if k!= '12':\n",
    "        line_stop = f_memo[k].index(\"Ending Balance\") + 1\n",
    "        f_dates[k] = f_dates[k][:line_stop]\n",
    "               \n",
    "for k in f_dates.keys():\n",
    "    if k!= '12':\n",
    "        final_page = list(zip(f_dates[k],f_memo[k]))\n",
    "        df = pd.DataFrame(final_page, columns=['Date', 'Desc'])\n",
    "        end_page[k] = df                  "
   ]
  },
  {
   "cell_type": "markdown",
   "id": "3f2229a0",
   "metadata": {},
   "source": [
    "<br>\n",
    "\n",
    "Because of above issues some data on the last page had to be hard-coded:\n",
    "\n",
    " -  convert Balance from text to numeric\n",
    " -  calc line Amount"
   ]
  },
  {
   "cell_type": "code",
   "execution_count": 6,
   "id": "fbb3bd0d",
   "metadata": {},
   "outputs": [],
   "source": [
    "data = {'08': ['-$228,876.94', '-$228,977.70', '-$229,195.46', '-$229,867.16', '-$231,009.69',\n",
    "       '-$232,292.19', '-$233,918.29', '-$236,043.29', '-$241,322.45', '-$312,287.45',\n",
    "       '$212.55','$404.71','$348.33','$250.97', '$82.31',  '-$471.42','-$1,887.58', \n",
    "       '-$3,853.49','-$7,595.87', '-$59,546.87','$453.13','$11,619.88','$11,364.88',\n",
    "       '$10,284.88','$6,621.84','$613.44','-$23,241.56','-$51,021.66','-$94,301.43',\n",
    "       '-$159,793.31','-$248,790.21', '-$165,790.21','-$120,790.21','-$120,810.21',\n",
    "       '-$120,855.21','-$120,862.21', '-$120,862.21'],\n",
    "        \n",
    "        '09': ['$973.04', '$973.04'],\n",
    "        \n",
    "        '10': ['-$99,072.80', '$427.20','$110,811.88','$55,811.88', '$911.88', '-$55,538.24', \n",
    "               '-$81,459.07', '-$84,523.26', '-$95,715.93', '-$96,515.93', '-$166,871.22', \n",
    "               '-$166,916.22','$583.78','$583.78'],\n",
    "        \n",
    "        '11': ['$623,350.63', '$600,907.38', '$488,052.24', '$369,695.07', '$288,695.07',\n",
    "       '$232,244.95', '$206,324.12', '$202,406.39', '$201,870.99', '$132,955.71',\n",
    "       '$132,910.71', '$132,910.71']}\n",
    "\n",
    "for k,v in end_page.items():\n",
    "    v.insert(2, \"Balance\", pd.Series(data[k]))\n",
    "    v['Balance'] = v['Balance'].replace('[\\$,]', '', regex=True).astype(float)\n",
    "    v.insert(2, \"Amount\", v['Balance'].diff().fillna(0))"
   ]
  },
  {
   "cell_type": "markdown",
   "id": "6ede7fe6",
   "metadata": {},
   "source": [
    "<br>\n",
    "combine individual pages into full month:"
   ]
  },
  {
   "cell_type": "code",
   "execution_count": 7,
   "id": "20438edd",
   "metadata": {},
   "outputs": [],
   "source": [
    "for k in history.keys():\n",
    "    if k!= '12':\n",
    "         history[k] = pd.concat([history[k],end_page[k]])"
   ]
  },
  {
   "cell_type": "markdown",
   "id": "ad218fcf",
   "metadata": {},
   "source": [
    "<br>\n",
    "combine months into one dataframe:"
   ]
  },
  {
   "cell_type": "code",
   "execution_count": 8,
   "id": "fa5abb9e",
   "metadata": {},
   "outputs": [],
   "source": [
    "bank = pd.concat([v for k,v in history.items()])"
   ]
  },
  {
   "cell_type": "markdown",
   "id": "2c50a55b",
   "metadata": {},
   "source": [
    "<br>\n",
    "\n",
    "- define Date as a datetime object\n",
    "- add Month column   "
   ]
  },
  {
   "cell_type": "code",
   "execution_count": 9,
   "id": "32d8d987",
   "metadata": {},
   "outputs": [],
   "source": [
    "bank['Date'] = pd.to_datetime(bank['Date'])\n",
    "bank.insert(0, \"Month\", bank['Date'].dt.strftime('%b'))\n",
    "bank = bank.reset_index(drop=True)"
   ]
  },
  {
   "cell_type": "markdown",
   "id": "1c0f12a5",
   "metadata": {},
   "source": [
    "<br>\n",
    "\n",
    "- handle problem rows \n",
    "- set Month to categorical variable\n",
    "- generate .txt output file \n",
    "- store data for later use"
   ]
  },
  {
   "cell_type": "code",
   "execution_count": 10,
   "id": "89c030c8",
   "metadata": {},
   "outputs": [
    {
     "name": "stdout",
     "output_type": "stream",
     "text": [
      "Stored 'bank' (DataFrame)\n"
     ]
    }
   ],
   "source": [
    "bank.iat[149,3] = -100000\n",
    "bank.iat[284,3] = -521500\n",
    "bank.iat[338,3] = -10000\n",
    "bank.iat[470,3] = -10000\n",
    "bank.iat[0,0] = 'Aug'\n",
    "\n",
    "bank['Month'] = pd.Categorical(bank['Month'],['Aug','Sep','Oct','Nov','Dec'])\n",
    "\n",
    "bank.to_csv('parsed_Aug-Dec.txt',index=False)  \n",
    "\n",
    "%store bank"
   ]
  }
 ],
 "metadata": {
  "kernelspec": {
   "display_name": "Python 3 (ipykernel)",
   "language": "python",
   "name": "python3"
  },
  "language_info": {
   "codemirror_mode": {
    "name": "ipython",
    "version": 3
   },
   "file_extension": ".py",
   "mimetype": "text/x-python",
   "name": "python",
   "nbconvert_exporter": "python",
   "pygments_lexer": "ipython3",
   "version": "3.7.7"
  }
 },
 "nbformat": 4,
 "nbformat_minor": 5
}
